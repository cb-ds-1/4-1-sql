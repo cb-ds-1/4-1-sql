{
  "nbformat": 4,
  "nbformat_minor": 0,
  "metadata": {
    "colab": {
      "name": "Q2_1.ipynb",
      "provenance": [],
      "collapsed_sections": []
    },
    "kernelspec": {
      "name": "python3",
      "display_name": "Python 3"
    }
  },
  "cells": [
    {
      "cell_type": "code",
      "metadata": {
        "id": "n347gkjkxzMM"
      },
      "source": [
        "import sqlite3\n",
        "import pandas as pd\n",
        "\n",
        "conn = sqlite3.connect('/content/drive/MyDrive/baseballdatabank-master/core/lahmansbaseballdb.sqlite')"
      ],
      "execution_count": 5,
      "outputs": []
    },
    {
      "cell_type": "code",
      "metadata": {
        "colab": {
          "base_uri": "https://localhost:8080/",
          "height": 80
        },
        "id": "KEdAEhXBx-wa",
        "outputId": "1196b1d0-74df-4616-b601-932273fa14a6"
      },
      "source": [
        "most_hr = pd.read_sql(\n",
        "\"\"\"\n",
        "SELECT  \n",
        "    playerID,\n",
        "    teamID,\n",
        "    yearID,\n",
        "    MAX(HR)\n",
        "FROM batting\n",
        "\"\"\", \n",
        "    con= conn\n",
        ")\n",
        "\n",
        "most_hr"
      ],
      "execution_count": 6,
      "outputs": [
        {
          "output_type": "execute_result",
          "data": {
            "text/html": [
              "<div>\n",
              "<style scoped>\n",
              "    .dataframe tbody tr th:only-of-type {\n",
              "        vertical-align: middle;\n",
              "    }\n",
              "\n",
              "    .dataframe tbody tr th {\n",
              "        vertical-align: top;\n",
              "    }\n",
              "\n",
              "    .dataframe thead th {\n",
              "        text-align: right;\n",
              "    }\n",
              "</style>\n",
              "<table border=\"1\" class=\"dataframe\">\n",
              "  <thead>\n",
              "    <tr style=\"text-align: right;\">\n",
              "      <th></th>\n",
              "      <th>playerID</th>\n",
              "      <th>teamID</th>\n",
              "      <th>yearID</th>\n",
              "      <th>MAX(HR)</th>\n",
              "    </tr>\n",
              "  </thead>\n",
              "  <tbody>\n",
              "    <tr>\n",
              "      <th>0</th>\n",
              "      <td>bondsba01</td>\n",
              "      <td>SFN</td>\n",
              "      <td>2001</td>\n",
              "      <td>73</td>\n",
              "    </tr>\n",
              "  </tbody>\n",
              "</table>\n",
              "</div>"
            ],
            "text/plain": [
              "    playerID teamID  yearID  MAX(HR)\n",
              "0  bondsba01    SFN    2001       73"
            ]
          },
          "metadata": {
            "tags": []
          },
          "execution_count": 6
        }
      ]
    },
    {
      "cell_type": "code",
      "metadata": {
        "id": "Y2flFRRVyE2_"
      },
      "source": [
        ""
      ],
      "execution_count": 6,
      "outputs": []
    }
  ]
}