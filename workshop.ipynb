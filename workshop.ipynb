{
 "cells": [
  {
   "cell_type": "markdown",
   "metadata": {},
   "source": [
    "# 1.1 Movies Database\n",
    "\n",
    "Take the movies dataset and turn it into a single `sqlite` database. It should have one table for each csv file in the movies dataset"
   ]
  },
  {
   "cell_type": "code",
   "execution_count": 61,
   "metadata": {},
   "outputs": [
    {
     "name": "stdout",
     "output_type": "stream",
     "text": [
      "Saving names\n",
      "Saving movies\n"
     ]
    },
    {
     "name": "stderr",
     "output_type": "stream",
     "text": [
      "/home/jlmy/anaconda3/lib/python3.7/site-packages/IPython/core/interactiveshell.py:2901: DtypeWarning: Columns (3) have mixed types.Specify dtype option on import or set low_memory=False.\n",
      "  if self.run_code(code, result):\n"
     ]
    },
    {
     "name": "stdout",
     "output_type": "stream",
     "text": [
      "Saving ratings\n",
      "Saving title_principals\n"
     ]
    }
   ],
   "source": [
    "import sqlite3\n",
    "import pandas as pd\n",
    "\n",
    "files = ['names', 'movies', 'ratings', 'title_principals']\n",
    "\n",
    "movies_set = sqlite3.connect('data/movies_set.sqlite')\n",
    "\n",
    "def sqlize_csv(file):\n",
    "    df = pd.read_csv('data/'+file+'.csv')\n",
    "    df.to_sql(\n",
    "        name=file,\n",
    "        con=movies_set, \n",
    "        schema=None, \n",
    "        if_exists='replace', \n",
    "        index=True, \n",
    "    )\n",
    "    \n",
    "for file in files:\n",
    "    print('Saving', file)\n",
    "    sqlize_csv(file)"
   ]
  },
  {
   "cell_type": "code",
   "execution_count": 62,
   "metadata": {},
   "outputs": [],
   "source": [
    "# c = movies_set.cursor()\n",
    "# c.execute(\"SELECT name FROM sqlite_master WHERE type='table';\")\n",
    "# c.fetchall()"
   ]
  },
  {
   "cell_type": "markdown",
   "metadata": {},
   "source": [
    "# 1.2 Queries\n",
    "\n",
    "**1.2.1** Use a single query to pull the original title of movies with a budget above $5m\n",
    "\n",
    "**1.2.2** Use a query to pull the english-language films with the word `war` in their title\n",
    "\n",
    "**1.2.3** Left join the average ratings from the `ratings` table onto the `movies_metadata` table, so you can have a relation between budget and rating. Hint: use a subquery."
   ]
  },
  {
   "cell_type": "code",
   "execution_count": 63,
   "metadata": {},
   "outputs": [
    {
     "name": "stderr",
     "output_type": "stream",
     "text": [
      "/home/jlmy/anaconda3/lib/python3.7/site-packages/IPython/core/interactiveshell.py:2785: DtypeWarning: Columns (3) have mixed types.Specify dtype option on import or set low_memory=False.\n",
      "  interactivity=interactivity, compiler=compiler, result=result)\n"
     ]
    }
   ],
   "source": [
    "movies = pd.read_csv('data/movies.csv')\n",
    "\n",
    "def get_currency(x):\n",
    "    if isinstance(x, str):\n",
    "        return(x.split(' ')[0])\n",
    "    return('')\n",
    "\n",
    "movies['Currency'] = movies['budget'].apply(get_currency)\n",
    "\n",
    "currencies = movies['Currency'].unique().tolist()\n",
    "\n",
    "def clean_currency(x):\n",
    "    if isinstance(x, str):\n",
    "        xt = x\n",
    "        for currency in currencies:\n",
    "            xt = xt.replace(currency, '')\n",
    "        return(xt.replace(',', ''))\n",
    "    return(x)"
   ]
  },
  {
   "cell_type": "code",
   "execution_count": 64,
   "metadata": {},
   "outputs": [],
   "source": [
    "movies['budget'] = movies['budget'].apply(clean_currency).astype(float)\n",
    "movies['budget'] = movies['budget'].fillna(0.)\n",
    "movies.to_sql(\n",
    "    name='movies',\n",
    "    con=movies_set, \n",
    "    schema=None, \n",
    "    if_exists='replace', \n",
    "    index=True, \n",
    ")"
   ]
  },
  {
   "cell_type": "markdown",
   "metadata": {},
   "source": [
    "**1.2.1**"
   ]
  },
  {
   "cell_type": "code",
   "execution_count": 65,
   "metadata": {},
   "outputs": [],
   "source": [
    "def query_movies(q):\n",
    "    return pd.read_sql_query(q, con=movies_set)"
   ]
  },
  {
   "cell_type": "code",
   "execution_count": 66,
   "metadata": {},
   "outputs": [
    {
     "data": {
      "text/html": [
       "<div>\n",
       "<style scoped>\n",
       "    .dataframe tbody tr th:only-of-type {\n",
       "        vertical-align: middle;\n",
       "    }\n",
       "\n",
       "    .dataframe tbody tr th {\n",
       "        vertical-align: top;\n",
       "    }\n",
       "\n",
       "    .dataframe thead th {\n",
       "        text-align: right;\n",
       "    }\n",
       "</style>\n",
       "<table border=\"1\" class=\"dataframe\">\n",
       "  <thead>\n",
       "    <tr style=\"text-align: right;\">\n",
       "      <th></th>\n",
       "      <th>title</th>\n",
       "    </tr>\n",
       "  </thead>\n",
       "  <tbody>\n",
       "    <tr>\n",
       "      <th>0</th>\n",
       "      <td>Metropolis</td>\n",
       "    </tr>\n",
       "    <tr>\n",
       "      <th>1</th>\n",
       "      <td>Napoleone</td>\n",
       "    </tr>\n",
       "    <tr>\n",
       "      <th>2</th>\n",
       "      <td>La regola del gioco</td>\n",
       "    </tr>\n",
       "    <tr>\n",
       "      <th>3</th>\n",
       "      <td>Kate &amp; Leopold</td>\n",
       "    </tr>\n",
       "    <tr>\n",
       "      <th>4</th>\n",
       "      <td>La cittadella degli eroi</td>\n",
       "    </tr>\n",
       "    <tr>\n",
       "      <th>...</th>\n",
       "      <td>...</td>\n",
       "    </tr>\n",
       "    <tr>\n",
       "      <th>9641</th>\n",
       "      <td>Aakashaganga II</td>\n",
       "    </tr>\n",
       "    <tr>\n",
       "      <th>9642</th>\n",
       "      <td>Munthiri Monchan</td>\n",
       "    </tr>\n",
       "    <tr>\n",
       "      <th>9643</th>\n",
       "      <td>Upin &amp; Ipin: Keris Siamang Tunggal</td>\n",
       "    </tr>\n",
       "    <tr>\n",
       "      <th>9644</th>\n",
       "      <td>Kaithi</td>\n",
       "    </tr>\n",
       "    <tr>\n",
       "      <th>9645</th>\n",
       "      <td>Pengalila</td>\n",
       "    </tr>\n",
       "  </tbody>\n",
       "</table>\n",
       "<p>9646 rows × 1 columns</p>\n",
       "</div>"
      ],
      "text/plain": [
       "                                   title\n",
       "0                             Metropolis\n",
       "1                              Napoleone\n",
       "2                    La regola del gioco\n",
       "3                         Kate & Leopold\n",
       "4               La cittadella degli eroi\n",
       "...                                  ...\n",
       "9641                     Aakashaganga II\n",
       "9642                    Munthiri Monchan\n",
       "9643  Upin & Ipin: Keris Siamang Tunggal\n",
       "9644                              Kaithi\n",
       "9645                           Pengalila\n",
       "\n",
       "[9646 rows x 1 columns]"
      ]
     },
     "execution_count": 66,
     "metadata": {},
     "output_type": "execute_result"
    }
   ],
   "source": [
    "five_mil = query_movies(\"SELECT title FROM movies WHERE budget > 5000000\")\n",
    "five_mil"
   ]
  },
  {
   "cell_type": "markdown",
   "metadata": {},
   "source": [
    "**1.2.2**"
   ]
  },
  {
   "cell_type": "code",
   "execution_count": 67,
   "metadata": {},
   "outputs": [
    {
     "data": {
      "text/html": [
       "<div>\n",
       "<style scoped>\n",
       "    .dataframe tbody tr th:only-of-type {\n",
       "        vertical-align: middle;\n",
       "    }\n",
       "\n",
       "    .dataframe tbody tr th {\n",
       "        vertical-align: top;\n",
       "    }\n",
       "\n",
       "    .dataframe thead th {\n",
       "        text-align: right;\n",
       "    }\n",
       "</style>\n",
       "<table border=\"1\" class=\"dataframe\">\n",
       "  <thead>\n",
       "    <tr style=\"text-align: right;\">\n",
       "      <th></th>\n",
       "      <th>title</th>\n",
       "    </tr>\n",
       "  </thead>\n",
       "  <tbody>\n",
       "    <tr>\n",
       "      <th>0</th>\n",
       "      <td>The War Against Mrs. Hadley</td>\n",
       "    </tr>\n",
       "    <tr>\n",
       "      <th>1</th>\n",
       "      <td>Linea di fuoco - War zone</td>\n",
       "    </tr>\n",
       "    <tr>\n",
       "      <th>2</th>\n",
       "      <td>Afganistan - The last war bus (L'ultimo bus di...</td>\n",
       "    </tr>\n",
       "    <tr>\n",
       "      <th>3</th>\n",
       "      <td>The War Bride</td>\n",
       "    </tr>\n",
       "    <tr>\n",
       "      <th>4</th>\n",
       "      <td>The War Within</td>\n",
       "    </tr>\n",
       "    <tr>\n",
       "      <th>5</th>\n",
       "      <td>Der Fluss war einst ein Mensch</td>\n",
       "    </tr>\n",
       "    <tr>\n",
       "      <th>6</th>\n",
       "      <td>The War of 1812</td>\n",
       "    </tr>\n",
       "    <tr>\n",
       "      <th>7</th>\n",
       "      <td>Cinematic Titanic: War of the Insects</td>\n",
       "    </tr>\n",
       "    <tr>\n",
       "      <th>8</th>\n",
       "      <td>The Civil War on Drugs</td>\n",
       "    </tr>\n",
       "    <tr>\n",
       "      <th>9</th>\n",
       "      <td>The War I Knew</td>\n",
       "    </tr>\n",
       "    <tr>\n",
       "      <th>10</th>\n",
       "      <td>Jeff Wayne's Musical Version of the War of the...</td>\n",
       "    </tr>\n",
       "    <tr>\n",
       "      <th>11</th>\n",
       "      <td>Ridge War Z</td>\n",
       "    </tr>\n",
       "    <tr>\n",
       "      <th>12</th>\n",
       "      <td>World War Dead: Rise of the Fallen</td>\n",
       "    </tr>\n",
       "    <tr>\n",
       "      <th>13</th>\n",
       "      <td>The War Within</td>\n",
       "    </tr>\n",
       "    <tr>\n",
       "      <th>14</th>\n",
       "      <td>Sinbad and the War of the Furies</td>\n",
       "    </tr>\n",
       "  </tbody>\n",
       "</table>\n",
       "</div>"
      ],
      "text/plain": [
       "                                                title\n",
       "0                         The War Against Mrs. Hadley\n",
       "1                           Linea di fuoco - War zone\n",
       "2   Afganistan - The last war bus (L'ultimo bus di...\n",
       "3                                       The War Bride\n",
       "4                                      The War Within\n",
       "5                      Der Fluss war einst ein Mensch\n",
       "6                                     The War of 1812\n",
       "7               Cinematic Titanic: War of the Insects\n",
       "8                              The Civil War on Drugs\n",
       "9                                      The War I Knew\n",
       "10  Jeff Wayne's Musical Version of the War of the...\n",
       "11                                        Ridge War Z\n",
       "12                 World War Dead: Rise of the Fallen\n",
       "13                                     The War Within\n",
       "14                   Sinbad and the War of the Furies"
      ]
     },
     "execution_count": 67,
     "metadata": {},
     "output_type": "execute_result"
    }
   ],
   "source": [
    "q = \"\"\"\n",
    "SELECT title \n",
    "FROM movies \n",
    "    WHERE language = 'English' \n",
    "    AND title LIKE '% war %'\n",
    "\"\"\"\n",
    "\n",
    "eng_war = query_movies(q)\n",
    "eng_war"
   ]
  },
  {
   "cell_type": "markdown",
   "metadata": {},
   "source": [
    "**1.2.3** Left join the average ratings from the ratings table onto the movies_metadata table, so you can have a relation between budget and rating. Hint: use a subquery."
   ]
  },
  {
   "cell_type": "code",
   "execution_count": null,
   "metadata": {},
   "outputs": [],
   "source": []
  },
  {
   "cell_type": "markdown",
   "metadata": {},
   "source": [
    "\n",
    "\n",
    "# 2. Baseball Database\n",
    "\n",
    "The [Baseball Database](http://www.seanlahman.com/baseball-archive/statistics/) has an sqlite version. Download it for these exercises.\n",
    "\n",
    "**2.1** Which player has had the most homeruns?\n",
    "\n",
    "**2.2** Is there a relation between how many homeruns a player has made in a year and his salary that year? Pull both colums together in a single query\n",
    "\n"
   ]
  },
  {
   "cell_type": "code",
   "execution_count": null,
   "metadata": {},
   "outputs": [],
   "source": []
  }
 ],
 "metadata": {
  "file_extension": ".py",
  "kernelspec": {
   "display_name": "Python 3",
   "language": "python",
   "name": "python3"
  },
  "language_info": {
   "codemirror_mode": {
    "name": "ipython",
    "version": 3
   },
   "file_extension": ".py",
   "mimetype": "text/x-python",
   "name": "python",
   "nbconvert_exporter": "python",
   "pygments_lexer": "ipython3",
   "version": "3.7.0"
  },
  "mimetype": "text/x-python",
  "name": "python",
  "npconvert_exporter": "python",
  "pygments_lexer": "ipython3",
  "version": 3
 },
 "nbformat": 4,
 "nbformat_minor": 2
}
