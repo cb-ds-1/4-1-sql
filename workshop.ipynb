{
 "nbformat": 4,
 "nbformat_minor": 2,
 "metadata": {
  "language_info": {
   "name": "python",
   "codemirror_mode": {
    "name": "ipython",
    "version": 3
   },
   "version": "3.8.3-final"
  },
  "orig_nbformat": 2,
  "file_extension": ".py",
  "mimetype": "text/x-python",
  "name": "python",
  "npconvert_exporter": "python",
  "pygments_lexer": "ipython3",
  "version": 3,
  "kernelspec": {
   "name": "python3",
   "display_name": "Python 3",
   "language": "python"
  }
 },
 "cells": [
  {
   "cell_type": "code",
   "execution_count": 3,
   "metadata": {},
   "outputs": [],
   "source": [
    "#librairy\n",
    "import pandas as pd\n",
    "import sqlite3"
   ]
  },
  {
   "cell_type": "markdown",
   "metadata": {},
   "source": [
    "# 1.1 Movies Database\n",
    "\n",
    "Take the movies dataset and turn it into a single `sqlite` database. It should have one table for each csv file in the movies dataset"
   ]
  },
  {
   "cell_type": "code",
   "execution_count": 4,
   "metadata": {},
   "outputs": [],
   "source": [
    "df_movies = pd.read_csv('data/movies_metadata.csv')\n",
    "df_credits = pd.read_csv('data/credits.csv')\n",
    "df_keywords = pd.read_csv('data/keywords.csv')\n",
    "df_links_small = pd.read_csv('data/links_small.csv')\n",
    "df_ratings_small = pd.read_csv('data/ratings_small.csv')"
   ]
  },
  {
   "cell_type": "code",
   "execution_count": 7,
   "metadata": {},
   "outputs": [
    {
     "output_type": "error",
     "ename": "ValueError",
     "evalue": "Table 'movies' already exists.",
     "traceback": [
      "\u001b[1;31m---------------------------------------------------------------------------\u001b[0m",
      "\u001b[1;31mValueError\u001b[0m                                Traceback (most recent call last)",
      "\u001b[1;32m<ipython-input-7-697ecf1529de>\u001b[0m in \u001b[0;36m<module>\u001b[1;34m\u001b[0m\n\u001b[1;32m----> 1\u001b[1;33m \u001b[0mdf_movies\u001b[0m\u001b[1;33m.\u001b[0m\u001b[0mto_sql\u001b[0m\u001b[1;33m(\u001b[0m\u001b[1;34m'movies'\u001b[0m\u001b[1;33m,\u001b[0m \u001b[0mcon\u001b[0m \u001b[1;33m=\u001b[0m \u001b[0mconn\u001b[0m\u001b[1;33m)\u001b[0m\u001b[1;33m\u001b[0m\u001b[1;33m\u001b[0m\u001b[0m\n\u001b[0m\u001b[0;32m      2\u001b[0m \u001b[0mdf_credits\u001b[0m\u001b[1;33m.\u001b[0m\u001b[0mto_sql\u001b[0m\u001b[1;33m(\u001b[0m\u001b[1;34m'credits'\u001b[0m\u001b[1;33m,\u001b[0m \u001b[0mcon\u001b[0m \u001b[1;33m=\u001b[0m \u001b[0mconn\u001b[0m\u001b[1;33m)\u001b[0m\u001b[1;33m\u001b[0m\u001b[1;33m\u001b[0m\u001b[0m\n\u001b[0;32m      3\u001b[0m \u001b[0mdf_keywords\u001b[0m\u001b[1;33m.\u001b[0m\u001b[0mto_sql\u001b[0m\u001b[1;33m(\u001b[0m\u001b[1;34m'keywords'\u001b[0m\u001b[1;33m,\u001b[0m \u001b[0mcon\u001b[0m \u001b[1;33m=\u001b[0m \u001b[0mconn\u001b[0m\u001b[1;33m)\u001b[0m\u001b[1;33m\u001b[0m\u001b[1;33m\u001b[0m\u001b[0m\n\u001b[0;32m      4\u001b[0m \u001b[0mdf_links_small\u001b[0m\u001b[1;33m.\u001b[0m\u001b[0mto_sql\u001b[0m\u001b[1;33m(\u001b[0m\u001b[1;34m'links_small'\u001b[0m\u001b[1;33m,\u001b[0m \u001b[0mcon\u001b[0m \u001b[1;33m=\u001b[0m \u001b[0mconn\u001b[0m\u001b[1;33m)\u001b[0m\u001b[1;33m\u001b[0m\u001b[1;33m\u001b[0m\u001b[0m\n\u001b[0;32m      5\u001b[0m \u001b[0mdf_ratings_small\u001b[0m\u001b[1;33m.\u001b[0m\u001b[0mto_sql\u001b[0m\u001b[1;33m(\u001b[0m\u001b[1;34m'ratings_small'\u001b[0m\u001b[1;33m,\u001b[0m \u001b[0mcon\u001b[0m \u001b[1;33m=\u001b[0m \u001b[0mconn\u001b[0m\u001b[1;33m)\u001b[0m\u001b[1;33m\u001b[0m\u001b[1;33m\u001b[0m\u001b[0m\n",
      "\u001b[1;32m~\\anaconda3\\lib\\site-packages\\pandas\\core\\generic.py\u001b[0m in \u001b[0;36mto_sql\u001b[1;34m(self, name, con, schema, if_exists, index, index_label, chunksize, dtype, method)\u001b[0m\n\u001b[0;32m   2603\u001b[0m         \u001b[1;32mfrom\u001b[0m \u001b[0mpandas\u001b[0m\u001b[1;33m.\u001b[0m\u001b[0mio\u001b[0m \u001b[1;32mimport\u001b[0m \u001b[0msql\u001b[0m\u001b[1;33m\u001b[0m\u001b[1;33m\u001b[0m\u001b[0m\n\u001b[0;32m   2604\u001b[0m \u001b[1;33m\u001b[0m\u001b[0m\n\u001b[1;32m-> 2605\u001b[1;33m         sql.to_sql(\n\u001b[0m\u001b[0;32m   2606\u001b[0m             \u001b[0mself\u001b[0m\u001b[1;33m,\u001b[0m\u001b[1;33m\u001b[0m\u001b[1;33m\u001b[0m\u001b[0m\n\u001b[0;32m   2607\u001b[0m             \u001b[0mname\u001b[0m\u001b[1;33m,\u001b[0m\u001b[1;33m\u001b[0m\u001b[1;33m\u001b[0m\u001b[0m\n",
      "\u001b[1;32m~\\anaconda3\\lib\\site-packages\\pandas\\io\\sql.py\u001b[0m in \u001b[0;36mto_sql\u001b[1;34m(frame, name, con, schema, if_exists, index, index_label, chunksize, dtype, method)\u001b[0m\n\u001b[0;32m    587\u001b[0m         )\n\u001b[0;32m    588\u001b[0m \u001b[1;33m\u001b[0m\u001b[0m\n\u001b[1;32m--> 589\u001b[1;33m     pandas_sql.to_sql(\n\u001b[0m\u001b[0;32m    590\u001b[0m         \u001b[0mframe\u001b[0m\u001b[1;33m,\u001b[0m\u001b[1;33m\u001b[0m\u001b[1;33m\u001b[0m\u001b[0m\n\u001b[0;32m    591\u001b[0m         \u001b[0mname\u001b[0m\u001b[1;33m,\u001b[0m\u001b[1;33m\u001b[0m\u001b[1;33m\u001b[0m\u001b[0m\n",
      "\u001b[1;32m~\\anaconda3\\lib\\site-packages\\pandas\\io\\sql.py\u001b[0m in \u001b[0;36mto_sql\u001b[1;34m(self, frame, name, if_exists, index, index_label, schema, chunksize, dtype, method)\u001b[0m\n\u001b[0;32m   1825\u001b[0m             \u001b[0mdtype\u001b[0m\u001b[1;33m=\u001b[0m\u001b[0mdtype\u001b[0m\u001b[1;33m,\u001b[0m\u001b[1;33m\u001b[0m\u001b[1;33m\u001b[0m\u001b[0m\n\u001b[0;32m   1826\u001b[0m         )\n\u001b[1;32m-> 1827\u001b[1;33m         \u001b[0mtable\u001b[0m\u001b[1;33m.\u001b[0m\u001b[0mcreate\u001b[0m\u001b[1;33m(\u001b[0m\u001b[1;33m)\u001b[0m\u001b[1;33m\u001b[0m\u001b[1;33m\u001b[0m\u001b[0m\n\u001b[0m\u001b[0;32m   1828\u001b[0m         \u001b[0mtable\u001b[0m\u001b[1;33m.\u001b[0m\u001b[0minsert\u001b[0m\u001b[1;33m(\u001b[0m\u001b[0mchunksize\u001b[0m\u001b[1;33m,\u001b[0m \u001b[0mmethod\u001b[0m\u001b[1;33m)\u001b[0m\u001b[1;33m\u001b[0m\u001b[1;33m\u001b[0m\u001b[0m\n\u001b[0;32m   1829\u001b[0m \u001b[1;33m\u001b[0m\u001b[0m\n",
      "\u001b[1;32m~\\anaconda3\\lib\\site-packages\\pandas\\io\\sql.py\u001b[0m in \u001b[0;36mcreate\u001b[1;34m(self)\u001b[0m\n\u001b[0;32m    721\u001b[0m         \u001b[1;32mif\u001b[0m \u001b[0mself\u001b[0m\u001b[1;33m.\u001b[0m\u001b[0mexists\u001b[0m\u001b[1;33m(\u001b[0m\u001b[1;33m)\u001b[0m\u001b[1;33m:\u001b[0m\u001b[1;33m\u001b[0m\u001b[1;33m\u001b[0m\u001b[0m\n\u001b[0;32m    722\u001b[0m             \u001b[1;32mif\u001b[0m \u001b[0mself\u001b[0m\u001b[1;33m.\u001b[0m\u001b[0mif_exists\u001b[0m \u001b[1;33m==\u001b[0m \u001b[1;34m\"fail\"\u001b[0m\u001b[1;33m:\u001b[0m\u001b[1;33m\u001b[0m\u001b[1;33m\u001b[0m\u001b[0m\n\u001b[1;32m--> 723\u001b[1;33m                 \u001b[1;32mraise\u001b[0m \u001b[0mValueError\u001b[0m\u001b[1;33m(\u001b[0m\u001b[1;34mf\"Table '{self.name}' already exists.\"\u001b[0m\u001b[1;33m)\u001b[0m\u001b[1;33m\u001b[0m\u001b[1;33m\u001b[0m\u001b[0m\n\u001b[0m\u001b[0;32m    724\u001b[0m             \u001b[1;32melif\u001b[0m \u001b[0mself\u001b[0m\u001b[1;33m.\u001b[0m\u001b[0mif_exists\u001b[0m \u001b[1;33m==\u001b[0m \u001b[1;34m\"replace\"\u001b[0m\u001b[1;33m:\u001b[0m\u001b[1;33m\u001b[0m\u001b[1;33m\u001b[0m\u001b[0m\n\u001b[0;32m    725\u001b[0m                 \u001b[0mself\u001b[0m\u001b[1;33m.\u001b[0m\u001b[0mpd_sql\u001b[0m\u001b[1;33m.\u001b[0m\u001b[0mdrop_table\u001b[0m\u001b[1;33m(\u001b[0m\u001b[0mself\u001b[0m\u001b[1;33m.\u001b[0m\u001b[0mname\u001b[0m\u001b[1;33m,\u001b[0m \u001b[0mself\u001b[0m\u001b[1;33m.\u001b[0m\u001b[0mschema\u001b[0m\u001b[1;33m)\u001b[0m\u001b[1;33m\u001b[0m\u001b[1;33m\u001b[0m\u001b[0m\n",
      "\u001b[1;31mValueError\u001b[0m: Table 'movies' already exists."
     ]
    }
   ],
   "source": [
    "df_movies.to_sql('movies', con = conn)\n",
    "df_credits.to_sql('credits', con = conn)\n",
    "df_keywords.to_sql('keywords', con = conn)\n",
    "df_links_small.to_sql('links_small', con = conn)\n",
    "df_ratings_small.to_sql('ratings_small', con = conn)"
   ]
  },
  {
   "cell_type": "code",
   "execution_count": 6,
   "metadata": {},
   "outputs": [],
   "source": [
    "conn = sqlite3.connect('data/movies.sqlite')"
   ]
  },
  {
   "cell_type": "code",
   "execution_count": 8,
   "metadata": {},
   "outputs": [
    {
     "output_type": "execute_result",
     "data": {
      "text/plain": [
       "            name\n",
       "0         movies\n",
       "1        credits\n",
       "2       keywords\n",
       "3    links_small\n",
       "4  ratings_small"
      ],
      "text/html": "<div>\n<style scoped>\n    .dataframe tbody tr th:only-of-type {\n        vertical-align: middle;\n    }\n\n    .dataframe tbody tr th {\n        vertical-align: top;\n    }\n\n    .dataframe thead th {\n        text-align: right;\n    }\n</style>\n<table border=\"1\" class=\"dataframe\">\n  <thead>\n    <tr style=\"text-align: right;\">\n      <th></th>\n      <th>name</th>\n    </tr>\n  </thead>\n  <tbody>\n    <tr>\n      <th>0</th>\n      <td>movies</td>\n    </tr>\n    <tr>\n      <th>1</th>\n      <td>credits</td>\n    </tr>\n    <tr>\n      <th>2</th>\n      <td>keywords</td>\n    </tr>\n    <tr>\n      <th>3</th>\n      <td>links_small</td>\n    </tr>\n    <tr>\n      <th>4</th>\n      <td>ratings_small</td>\n    </tr>\n  </tbody>\n</table>\n</div>"
     },
     "metadata": {},
     "execution_count": 8
    }
   ],
   "source": [
    "pd.read_sql(\"SELECT name FROM sqlite_master WHERE type='table'\", con=conn)"
   ]
  },
  {
   "cell_type": "markdown",
   "metadata": {},
   "source": [
    "# 1.2 Queries\n",
    "\n",
    "**1.2.1** Use a single query to pull the original title of movies with a budget above $5m\n",
    "\n",
    "**1.2.2** Use a query to pull the english-language films with the word `war` in their title\n",
    "\n",
    "**1.2.3** Left join the average ratings from the `ratings` table onto the `movies_metadata` table, so you can have a relation between budget and rating. Hint: use a subquery."
   ]
  },
  {
   "cell_type": "code",
   "execution_count": 8,
   "metadata": {},
   "outputs": [
    {
     "output_type": "execute_result",
     "data": {
      "text/plain": [
       "                 original_title\n",
       "0                       Jumanji\n",
       "1                          Heat\n",
       "2                       Sabrina\n",
       "3                     GoldenEye\n",
       "4        The American President\n",
       "...                         ...\n",
       "2182            The Emoji Movie\n",
       "2183                    Pattaya\n",
       "2184  House of the Long Shadows\n",
       "2185                Все и сразу\n",
       "2186                     Dikari\n",
       "\n",
       "[2187 rows x 1 columns]"
      ],
      "text/html": "<div>\n<style scoped>\n    .dataframe tbody tr th:only-of-type {\n        vertical-align: middle;\n    }\n\n    .dataframe tbody tr th {\n        vertical-align: top;\n    }\n\n    .dataframe thead th {\n        text-align: right;\n    }\n</style>\n<table border=\"1\" class=\"dataframe\">\n  <thead>\n    <tr style=\"text-align: right;\">\n      <th></th>\n      <th>original_title</th>\n    </tr>\n  </thead>\n  <tbody>\n    <tr>\n      <th>0</th>\n      <td>Jumanji</td>\n    </tr>\n    <tr>\n      <th>1</th>\n      <td>Heat</td>\n    </tr>\n    <tr>\n      <th>2</th>\n      <td>Sabrina</td>\n    </tr>\n    <tr>\n      <th>3</th>\n      <td>GoldenEye</td>\n    </tr>\n    <tr>\n      <th>4</th>\n      <td>The American President</td>\n    </tr>\n    <tr>\n      <th>...</th>\n      <td>...</td>\n    </tr>\n    <tr>\n      <th>2182</th>\n      <td>The Emoji Movie</td>\n    </tr>\n    <tr>\n      <th>2183</th>\n      <td>Pattaya</td>\n    </tr>\n    <tr>\n      <th>2184</th>\n      <td>House of the Long Shadows</td>\n    </tr>\n    <tr>\n      <th>2185</th>\n      <td>Все и сразу</td>\n    </tr>\n    <tr>\n      <th>2186</th>\n      <td>Dikari</td>\n    </tr>\n  </tbody>\n</table>\n<p>2187 rows × 1 columns</p>\n</div>"
     },
     "metadata": {},
     "execution_count": 8
    }
   ],
   "source": [
    "#1.2.1 movie with a budget > 5m \n",
    "\n",
    "pd.read_sql(\"\"\"\n",
    "            SELECT original_title\n",
    "            FROM movies\n",
    "            WHERE budget > 5000000\n",
    "            \"\"\", con=conn)"
   ]
  },
  {
   "cell_type": "code",
   "execution_count": 14,
   "metadata": {},
   "outputs": [
    {
     "output_type": "execute_result",
     "data": {
      "text/plain": [
       "                           original_title original_language\n",
       "0                                 The War                en\n",
       "1                            The War Room                en\n",
       "2    War Stories Our Mother Never Told Us                en\n",
       "3                         In Love and War                en\n",
       "4                      Warriors of Virtue                en\n",
       "..                                    ...               ...\n",
       "141        War for the Planet of the Apes                en\n",
       "142               Underworld: Endless War                en\n",
       "143                           War Machine                en\n",
       "144       Warning: This Drug May Kill You                en\n",
       "145                          Warm Springs                en\n",
       "\n",
       "[146 rows x 2 columns]"
      ],
      "text/html": "<div>\n<style scoped>\n    .dataframe tbody tr th:only-of-type {\n        vertical-align: middle;\n    }\n\n    .dataframe tbody tr th {\n        vertical-align: top;\n    }\n\n    .dataframe thead th {\n        text-align: right;\n    }\n</style>\n<table border=\"1\" class=\"dataframe\">\n  <thead>\n    <tr style=\"text-align: right;\">\n      <th></th>\n      <th>original_title</th>\n      <th>original_language</th>\n    </tr>\n  </thead>\n  <tbody>\n    <tr>\n      <th>0</th>\n      <td>The War</td>\n      <td>en</td>\n    </tr>\n    <tr>\n      <th>1</th>\n      <td>The War Room</td>\n      <td>en</td>\n    </tr>\n    <tr>\n      <th>2</th>\n      <td>War Stories Our Mother Never Told Us</td>\n      <td>en</td>\n    </tr>\n    <tr>\n      <th>3</th>\n      <td>In Love and War</td>\n      <td>en</td>\n    </tr>\n    <tr>\n      <th>4</th>\n      <td>Warriors of Virtue</td>\n      <td>en</td>\n    </tr>\n    <tr>\n      <th>...</th>\n      <td>...</td>\n      <td>...</td>\n    </tr>\n    <tr>\n      <th>141</th>\n      <td>War for the Planet of the Apes</td>\n      <td>en</td>\n    </tr>\n    <tr>\n      <th>142</th>\n      <td>Underworld: Endless War</td>\n      <td>en</td>\n    </tr>\n    <tr>\n      <th>143</th>\n      <td>War Machine</td>\n      <td>en</td>\n    </tr>\n    <tr>\n      <th>144</th>\n      <td>Warning: This Drug May Kill You</td>\n      <td>en</td>\n    </tr>\n    <tr>\n      <th>145</th>\n      <td>Warm Springs</td>\n      <td>en</td>\n    </tr>\n  </tbody>\n</table>\n<p>146 rows × 2 columns</p>\n</div>"
     },
     "metadata": {},
     "execution_count": 14
    }
   ],
   "source": [
    "#1.2.2 pull english-language films with the  word war in their title \n",
    "\n",
    "pd.read_sql(\n",
    "\"\"\"\n",
    "SELECT\n",
    "    original_title,\n",
    "    original_language\n",
    "FROM movies\n",
    "WHERE\n",
    "    (\n",
    "    original_title LIKE '% war %'\n",
    "    OR original_title LIKE '%war'\n",
    "    OR original_title LIKE 'war%'\n",
    "    OR original_title LIKE 'war'\n",
    "    )\n",
    "    AND original_language == 'en'\n",
    "\"\"\", \n",
    "con=conn\n",
    ")"
   ]
  },
  {
   "cell_type": "code",
   "execution_count": 15,
   "metadata": {},
   "outputs": [
    {
     "output_type": "execute_result",
     "data": {
      "text/plain": [
       "      index  adult                              belongs_to_collection  \\\n",
       "0         5  False                                               None   \n",
       "1         9  False  {'id': 645, 'name': 'James Bond Collection', '...   \n",
       "2        14  False                                               None   \n",
       "3        15  False                                               None   \n",
       "4        16  False                                               None   \n",
       "...     ...    ...                                                ...   \n",
       "2826  45318  False                                               None   \n",
       "2827  45353  False  {'id': 123720, 'name': 'Frankenstein (Hammer S...   \n",
       "2828  45403  False                                               None   \n",
       "2829  45406  False                                               None   \n",
       "2830  45450  False                                               None   \n",
       "\n",
       "        budget                                             genres  \\\n",
       "0     60000000  [{'id': 28, 'name': 'Action'}, {'id': 80, 'nam...   \n",
       "1     58000000  [{'id': 12, 'name': 'Adventure'}, {'id': 28, '...   \n",
       "2     98000000  [{'id': 28, 'name': 'Action'}, {'id': 12, 'nam...   \n",
       "3     52000000  [{'id': 18, 'name': 'Drama'}, {'id': 80, 'name...   \n",
       "4     16500000  [{'id': 18, 'name': 'Drama'}, {'id': 10749, 'n...   \n",
       "...        ...                                                ...   \n",
       "2826         0                      [{'id': 18, 'name': 'Drama'}]   \n",
       "2827         0  [{'id': 27, 'name': 'Horror'}, {'id': 878, 'na...   \n",
       "2828         0  [{'id': 10749, 'name': 'Romance'}, {'id': 18, ...   \n",
       "2829         0  [{'id': 35, 'name': 'Comedy'}, {'id': 10749, '...   \n",
       "2830         0  [{'id': 14, 'name': 'Fantasy'}, {'id': 28, 'na...   \n",
       "\n",
       "                                          homepage     id    imdb_id  \\\n",
       "0                                             None    949  tt0113277   \n",
       "1     http://www.mgm.com/view/movie/757/Goldeneye/    710  tt0113189   \n",
       "2                                             None   1408  tt0112760   \n",
       "3                                             None    524  tt0112641   \n",
       "4                                             None   4584  tt0114388   \n",
       "...                                            ...    ...        ...   \n",
       "2826                                          None  80831  tt1576459   \n",
       "2827                                          None   3104  tt0061683   \n",
       "2828                                          None  64197  tt1047845   \n",
       "2829                                          None  98604  tt2147597   \n",
       "2830                                          None  49280  tt0135453   \n",
       "\n",
       "     original_language                        original_title  ... runtime  \\\n",
       "0                   en                                  Heat  ...   170.0   \n",
       "1                   en                             GoldenEye  ...   130.0   \n",
       "2                   en                      Cutthroat Island  ...   119.0   \n",
       "3                   en                                Casino  ...   178.0   \n",
       "4                   en                 Sense and Sensibility  ...   136.0   \n",
       "...                ...                                   ...  ...     ...   \n",
       "2826                en                          Sang Pemimpi  ...   121.0   \n",
       "2827                en            Frankenstein Created Woman  ...    92.0   \n",
       "2828                ru  Puteshestvie s domashnimi zhivotnymi  ...    97.0   \n",
       "2829                ru                              Zolushka  ...    91.0   \n",
       "2830                fr                     L'Homme orchestre  ...     1.0   \n",
       "\n",
       "                                       spoken_languages    status  \\\n",
       "0     [{'iso_639_1': 'en', 'name': 'English'}, {'iso...  Released   \n",
       "1     [{'iso_639_1': 'en', 'name': 'English'}, {'iso...  Released   \n",
       "2     [{'iso_639_1': 'en', 'name': 'English'}, {'iso...  Released   \n",
       "3              [{'iso_639_1': 'en', 'name': 'English'}]  Released   \n",
       "4              [{'iso_639_1': 'en', 'name': 'English'}]  Released   \n",
       "...                                                 ...       ...   \n",
       "2826  [{'iso_639_1': 'id', 'name': 'Bahasa indonesia'}]  Released   \n",
       "2827           [{'iso_639_1': 'en', 'name': 'English'}]  Released   \n",
       "2828           [{'iso_639_1': 'ru', 'name': 'Pусский'}]  Released   \n",
       "2829           [{'iso_639_1': 'ru', 'name': 'Pусский'}]  Released   \n",
       "2830       [{'iso_639_1': 'xx', 'name': 'No Language'}]  Released   \n",
       "\n",
       "                                                tagline  \\\n",
       "0                              A Los Angeles Crime Saga   \n",
       "1                  No limits. No fears. No substitutes.   \n",
       "2     The Course Has Been Set. There Is No Turning B...   \n",
       "3                      No one stays at the top forever.   \n",
       "4              Lose your heart and come to your senses.   \n",
       "...                                                 ...   \n",
       "2826                                               None   \n",
       "2827  Now Frankenstein has created a beautiful woman...   \n",
       "2828                                               None   \n",
       "2829                                               None   \n",
       "2830                                               None   \n",
       "\n",
       "                           title video  vote_average  vote_count movieId  \\\n",
       "0                           Heat     0           7.7      1886.0     949   \n",
       "1                      GoldenEye     0           6.6      1194.0     710   \n",
       "2               Cutthroat Island     0           5.7       137.0    1408   \n",
       "3                         Casino     0           7.8      1343.0     524   \n",
       "4          Sense and Sensibility     0           7.2       364.0    4584   \n",
       "...                          ...   ...           ...         ...     ...   \n",
       "2826                Sang Pemimpi     0           6.5         2.0   80831   \n",
       "2827  Frankenstein Created Woman     0           5.9        33.0    3104   \n",
       "2828        Travelling with Pets     0           6.0         5.0   64197   \n",
       "2829                  Cinderella     0           4.6         6.0   98604   \n",
       "2830            The One-Man Band     0           6.5        22.0   49280   \n",
       "\n",
       "     Average rating  \n",
       "0          3.593750  \n",
       "1          1.500000  \n",
       "2          3.616279  \n",
       "3          3.555556  \n",
       "4          5.000000  \n",
       "...             ...  \n",
       "2826       3.250000  \n",
       "2827       3.965517  \n",
       "2828       4.166667  \n",
       "2829       4.000000  \n",
       "2830       5.000000  \n",
       "\n",
       "[2831 rows x 27 columns]"
      ],
      "text/html": "<div>\n<style scoped>\n    .dataframe tbody tr th:only-of-type {\n        vertical-align: middle;\n    }\n\n    .dataframe tbody tr th {\n        vertical-align: top;\n    }\n\n    .dataframe thead th {\n        text-align: right;\n    }\n</style>\n<table border=\"1\" class=\"dataframe\">\n  <thead>\n    <tr style=\"text-align: right;\">\n      <th></th>\n      <th>index</th>\n      <th>adult</th>\n      <th>belongs_to_collection</th>\n      <th>budget</th>\n      <th>genres</th>\n      <th>homepage</th>\n      <th>id</th>\n      <th>imdb_id</th>\n      <th>original_language</th>\n      <th>original_title</th>\n      <th>...</th>\n      <th>runtime</th>\n      <th>spoken_languages</th>\n      <th>status</th>\n      <th>tagline</th>\n      <th>title</th>\n      <th>video</th>\n      <th>vote_average</th>\n      <th>vote_count</th>\n      <th>movieId</th>\n      <th>Average rating</th>\n    </tr>\n  </thead>\n  <tbody>\n    <tr>\n      <th>0</th>\n      <td>5</td>\n      <td>False</td>\n      <td>None</td>\n      <td>60000000</td>\n      <td>[{'id': 28, 'name': 'Action'}, {'id': 80, 'nam...</td>\n      <td>None</td>\n      <td>949</td>\n      <td>tt0113277</td>\n      <td>en</td>\n      <td>Heat</td>\n      <td>...</td>\n      <td>170.0</td>\n      <td>[{'iso_639_1': 'en', 'name': 'English'}, {'iso...</td>\n      <td>Released</td>\n      <td>A Los Angeles Crime Saga</td>\n      <td>Heat</td>\n      <td>0</td>\n      <td>7.7</td>\n      <td>1886.0</td>\n      <td>949</td>\n      <td>3.593750</td>\n    </tr>\n    <tr>\n      <th>1</th>\n      <td>9</td>\n      <td>False</td>\n      <td>{'id': 645, 'name': 'James Bond Collection', '...</td>\n      <td>58000000</td>\n      <td>[{'id': 12, 'name': 'Adventure'}, {'id': 28, '...</td>\n      <td>http://www.mgm.com/view/movie/757/Goldeneye/</td>\n      <td>710</td>\n      <td>tt0113189</td>\n      <td>en</td>\n      <td>GoldenEye</td>\n      <td>...</td>\n      <td>130.0</td>\n      <td>[{'iso_639_1': 'en', 'name': 'English'}, {'iso...</td>\n      <td>Released</td>\n      <td>No limits. No fears. No substitutes.</td>\n      <td>GoldenEye</td>\n      <td>0</td>\n      <td>6.6</td>\n      <td>1194.0</td>\n      <td>710</td>\n      <td>1.500000</td>\n    </tr>\n    <tr>\n      <th>2</th>\n      <td>14</td>\n      <td>False</td>\n      <td>None</td>\n      <td>98000000</td>\n      <td>[{'id': 28, 'name': 'Action'}, {'id': 12, 'nam...</td>\n      <td>None</td>\n      <td>1408</td>\n      <td>tt0112760</td>\n      <td>en</td>\n      <td>Cutthroat Island</td>\n      <td>...</td>\n      <td>119.0</td>\n      <td>[{'iso_639_1': 'en', 'name': 'English'}, {'iso...</td>\n      <td>Released</td>\n      <td>The Course Has Been Set. There Is No Turning B...</td>\n      <td>Cutthroat Island</td>\n      <td>0</td>\n      <td>5.7</td>\n      <td>137.0</td>\n      <td>1408</td>\n      <td>3.616279</td>\n    </tr>\n    <tr>\n      <th>3</th>\n      <td>15</td>\n      <td>False</td>\n      <td>None</td>\n      <td>52000000</td>\n      <td>[{'id': 18, 'name': 'Drama'}, {'id': 80, 'name...</td>\n      <td>None</td>\n      <td>524</td>\n      <td>tt0112641</td>\n      <td>en</td>\n      <td>Casino</td>\n      <td>...</td>\n      <td>178.0</td>\n      <td>[{'iso_639_1': 'en', 'name': 'English'}]</td>\n      <td>Released</td>\n      <td>No one stays at the top forever.</td>\n      <td>Casino</td>\n      <td>0</td>\n      <td>7.8</td>\n      <td>1343.0</td>\n      <td>524</td>\n      <td>3.555556</td>\n    </tr>\n    <tr>\n      <th>4</th>\n      <td>16</td>\n      <td>False</td>\n      <td>None</td>\n      <td>16500000</td>\n      <td>[{'id': 18, 'name': 'Drama'}, {'id': 10749, 'n...</td>\n      <td>None</td>\n      <td>4584</td>\n      <td>tt0114388</td>\n      <td>en</td>\n      <td>Sense and Sensibility</td>\n      <td>...</td>\n      <td>136.0</td>\n      <td>[{'iso_639_1': 'en', 'name': 'English'}]</td>\n      <td>Released</td>\n      <td>Lose your heart and come to your senses.</td>\n      <td>Sense and Sensibility</td>\n      <td>0</td>\n      <td>7.2</td>\n      <td>364.0</td>\n      <td>4584</td>\n      <td>5.000000</td>\n    </tr>\n    <tr>\n      <th>...</th>\n      <td>...</td>\n      <td>...</td>\n      <td>...</td>\n      <td>...</td>\n      <td>...</td>\n      <td>...</td>\n      <td>...</td>\n      <td>...</td>\n      <td>...</td>\n      <td>...</td>\n      <td>...</td>\n      <td>...</td>\n      <td>...</td>\n      <td>...</td>\n      <td>...</td>\n      <td>...</td>\n      <td>...</td>\n      <td>...</td>\n      <td>...</td>\n      <td>...</td>\n      <td>...</td>\n    </tr>\n    <tr>\n      <th>2826</th>\n      <td>45318</td>\n      <td>False</td>\n      <td>None</td>\n      <td>0</td>\n      <td>[{'id': 18, 'name': 'Drama'}]</td>\n      <td>None</td>\n      <td>80831</td>\n      <td>tt1576459</td>\n      <td>en</td>\n      <td>Sang Pemimpi</td>\n      <td>...</td>\n      <td>121.0</td>\n      <td>[{'iso_639_1': 'id', 'name': 'Bahasa indonesia'}]</td>\n      <td>Released</td>\n      <td>None</td>\n      <td>Sang Pemimpi</td>\n      <td>0</td>\n      <td>6.5</td>\n      <td>2.0</td>\n      <td>80831</td>\n      <td>3.250000</td>\n    </tr>\n    <tr>\n      <th>2827</th>\n      <td>45353</td>\n      <td>False</td>\n      <td>{'id': 123720, 'name': 'Frankenstein (Hammer S...</td>\n      <td>0</td>\n      <td>[{'id': 27, 'name': 'Horror'}, {'id': 878, 'na...</td>\n      <td>None</td>\n      <td>3104</td>\n      <td>tt0061683</td>\n      <td>en</td>\n      <td>Frankenstein Created Woman</td>\n      <td>...</td>\n      <td>92.0</td>\n      <td>[{'iso_639_1': 'en', 'name': 'English'}]</td>\n      <td>Released</td>\n      <td>Now Frankenstein has created a beautiful woman...</td>\n      <td>Frankenstein Created Woman</td>\n      <td>0</td>\n      <td>5.9</td>\n      <td>33.0</td>\n      <td>3104</td>\n      <td>3.965517</td>\n    </tr>\n    <tr>\n      <th>2828</th>\n      <td>45403</td>\n      <td>False</td>\n      <td>None</td>\n      <td>0</td>\n      <td>[{'id': 10749, 'name': 'Romance'}, {'id': 18, ...</td>\n      <td>None</td>\n      <td>64197</td>\n      <td>tt1047845</td>\n      <td>ru</td>\n      <td>Puteshestvie s domashnimi zhivotnymi</td>\n      <td>...</td>\n      <td>97.0</td>\n      <td>[{'iso_639_1': 'ru', 'name': 'Pусский'}]</td>\n      <td>Released</td>\n      <td>None</td>\n      <td>Travelling with Pets</td>\n      <td>0</td>\n      <td>6.0</td>\n      <td>5.0</td>\n      <td>64197</td>\n      <td>4.166667</td>\n    </tr>\n    <tr>\n      <th>2829</th>\n      <td>45406</td>\n      <td>False</td>\n      <td>None</td>\n      <td>0</td>\n      <td>[{'id': 35, 'name': 'Comedy'}, {'id': 10749, '...</td>\n      <td>None</td>\n      <td>98604</td>\n      <td>tt2147597</td>\n      <td>ru</td>\n      <td>Zolushka</td>\n      <td>...</td>\n      <td>91.0</td>\n      <td>[{'iso_639_1': 'ru', 'name': 'Pусский'}]</td>\n      <td>Released</td>\n      <td>None</td>\n      <td>Cinderella</td>\n      <td>0</td>\n      <td>4.6</td>\n      <td>6.0</td>\n      <td>98604</td>\n      <td>4.000000</td>\n    </tr>\n    <tr>\n      <th>2830</th>\n      <td>45450</td>\n      <td>False</td>\n      <td>None</td>\n      <td>0</td>\n      <td>[{'id': 14, 'name': 'Fantasy'}, {'id': 28, 'na...</td>\n      <td>None</td>\n      <td>49280</td>\n      <td>tt0135453</td>\n      <td>fr</td>\n      <td>L'Homme orchestre</td>\n      <td>...</td>\n      <td>1.0</td>\n      <td>[{'iso_639_1': 'xx', 'name': 'No Language'}]</td>\n      <td>Released</td>\n      <td>None</td>\n      <td>The One-Man Band</td>\n      <td>0</td>\n      <td>6.5</td>\n      <td>22.0</td>\n      <td>49280</td>\n      <td>5.000000</td>\n    </tr>\n  </tbody>\n</table>\n<p>2831 rows × 27 columns</p>\n</div>"
     },
     "metadata": {},
     "execution_count": 15
    }
   ],
   "source": [
    "#1.2.3 Left join the average ratings from the rating tables \n",
    "\n",
    "pd.read_sql(\n",
    "\"\"\"\n",
    "SELECT * \n",
    "FROM movies\n",
    "JOIN (SELECT movieId, AVG(rating) as 'Average rating' \n",
    "FROM ratings_small \n",
    "GROUP BY movieId) as ratings ON ratings.movieId = movies.id\n",
    "\"\"\", con = conn\n",
    ")"
   ]
  },
  {
   "cell_type": "markdown",
   "metadata": {},
   "source": [
    "# 2. Baseball Database\n",
    "\n",
    "The [Baseball Database](http://www.seanlahman.com/baseball-archive/statistics/) has an sqlite version. Download it for these exercises.\n",
    "\n",
    "**2.1** Which player has had the most homeruns?\n",
    "\n",
    "**2.2** Is there a relation between how many homeruns a player has made in a year and his salary that year? Pull both colums together in a single query\n",
    "\n"
   ]
  },
  {
   "cell_type": "code",
   "execution_count": 20,
   "metadata": {},
   "outputs": [],
   "source": [
    "conn = sqlite3.connect('data\\lahmansbaseballdb (1).sqlite')\n",
    "c = conn.cursor()\n"
   ]
  },
  {
   "cell_type": "code",
   "execution_count": 21,
   "metadata": {},
   "outputs": [
    {
     "output_type": "execute_result",
     "data": {
      "text/plain": [
       "                   name\n",
       "0           allstarfull\n",
       "1           appearances\n",
       "2        awardsmanagers\n",
       "3         awardsplayers\n",
       "4   awardssharemanagers\n",
       "5    awardsshareplayers\n",
       "6               batting\n",
       "7           battingpost\n",
       "8        collegeplaying\n",
       "9             divisions\n",
       "10             fielding\n",
       "11           fieldingof\n",
       "12      fieldingofsplit\n",
       "13         fieldingpost\n",
       "14           halloffame\n",
       "15            homegames\n",
       "16              leagues\n",
       "17             managers\n",
       "18         managershalf\n",
       "19                parks\n",
       "20               people\n",
       "21             pitching\n",
       "22         pitchingpost\n",
       "23             salaries\n",
       "24              schools\n",
       "25           seriespost\n",
       "26                teams\n",
       "27      teamsfranchises\n",
       "28            teamshalf"
      ],
      "text/html": "<div>\n<style scoped>\n    .dataframe tbody tr th:only-of-type {\n        vertical-align: middle;\n    }\n\n    .dataframe tbody tr th {\n        vertical-align: top;\n    }\n\n    .dataframe thead th {\n        text-align: right;\n    }\n</style>\n<table border=\"1\" class=\"dataframe\">\n  <thead>\n    <tr style=\"text-align: right;\">\n      <th></th>\n      <th>name</th>\n    </tr>\n  </thead>\n  <tbody>\n    <tr>\n      <th>0</th>\n      <td>allstarfull</td>\n    </tr>\n    <tr>\n      <th>1</th>\n      <td>appearances</td>\n    </tr>\n    <tr>\n      <th>2</th>\n      <td>awardsmanagers</td>\n    </tr>\n    <tr>\n      <th>3</th>\n      <td>awardsplayers</td>\n    </tr>\n    <tr>\n      <th>4</th>\n      <td>awardssharemanagers</td>\n    </tr>\n    <tr>\n      <th>5</th>\n      <td>awardsshareplayers</td>\n    </tr>\n    <tr>\n      <th>6</th>\n      <td>batting</td>\n    </tr>\n    <tr>\n      <th>7</th>\n      <td>battingpost</td>\n    </tr>\n    <tr>\n      <th>8</th>\n      <td>collegeplaying</td>\n    </tr>\n    <tr>\n      <th>9</th>\n      <td>divisions</td>\n    </tr>\n    <tr>\n      <th>10</th>\n      <td>fielding</td>\n    </tr>\n    <tr>\n      <th>11</th>\n      <td>fieldingof</td>\n    </tr>\n    <tr>\n      <th>12</th>\n      <td>fieldingofsplit</td>\n    </tr>\n    <tr>\n      <th>13</th>\n      <td>fieldingpost</td>\n    </tr>\n    <tr>\n      <th>14</th>\n      <td>halloffame</td>\n    </tr>\n    <tr>\n      <th>15</th>\n      <td>homegames</td>\n    </tr>\n    <tr>\n      <th>16</th>\n      <td>leagues</td>\n    </tr>\n    <tr>\n      <th>17</th>\n      <td>managers</td>\n    </tr>\n    <tr>\n      <th>18</th>\n      <td>managershalf</td>\n    </tr>\n    <tr>\n      <th>19</th>\n      <td>parks</td>\n    </tr>\n    <tr>\n      <th>20</th>\n      <td>people</td>\n    </tr>\n    <tr>\n      <th>21</th>\n      <td>pitching</td>\n    </tr>\n    <tr>\n      <th>22</th>\n      <td>pitchingpost</td>\n    </tr>\n    <tr>\n      <th>23</th>\n      <td>salaries</td>\n    </tr>\n    <tr>\n      <th>24</th>\n      <td>schools</td>\n    </tr>\n    <tr>\n      <th>25</th>\n      <td>seriespost</td>\n    </tr>\n    <tr>\n      <th>26</th>\n      <td>teams</td>\n    </tr>\n    <tr>\n      <th>27</th>\n      <td>teamsfranchises</td>\n    </tr>\n    <tr>\n      <th>28</th>\n      <td>teamshalf</td>\n    </tr>\n  </tbody>\n</table>\n</div>"
     },
     "metadata": {},
     "execution_count": 21
    }
   ],
   "source": [
    "pd.read_sql(\"SELECT name FROM sqlite_MASTER WHERE type='table'\", con=conn)"
   ]
  },
  {
   "cell_type": "code",
   "execution_count": 41,
   "metadata": {},
   "outputs": [
    {
     "output_type": "execute_result",
     "data": {
      "text/plain": [
       "       playerID   HR\n",
       "1621  bondsba01  762"
      ],
      "text/html": "<div>\n<style scoped>\n    .dataframe tbody tr th:only-of-type {\n        vertical-align: middle;\n    }\n\n    .dataframe tbody tr th {\n        vertical-align: top;\n    }\n\n    .dataframe thead th {\n        text-align: right;\n    }\n</style>\n<table border=\"1\" class=\"dataframe\">\n  <thead>\n    <tr style=\"text-align: right;\">\n      <th></th>\n      <th>playerID</th>\n      <th>HR</th>\n    </tr>\n  </thead>\n  <tbody>\n    <tr>\n      <th>1621</th>\n      <td>bondsba01</td>\n      <td>762</td>\n    </tr>\n  </tbody>\n</table>\n</div>"
     },
     "metadata": {},
     "execution_count": 41
    }
   ],
   "source": [
    "#2.1 Which player has had the most homeruns?\n",
    "\n",
    "df = (\n",
    "    pd.read_sql_query(\n",
    "        \"\"\"\n",
    "        SELECT playerID, SUM(HR) as HR FROM batting GROUP BY playerID\n",
    "        \"\"\",\n",
    "        conn\n",
    "    )\n",
    ")\n",
    "#df.columns\n",
    "df.loc[df.HR == df.HR.max()]\n",
    "#Barry Bonds"
   ]
  },
  {
   "cell_type": "code",
   "execution_count": 62,
   "metadata": {},
   "outputs": [
    {
     "output_type": "execute_result",
     "data": {
      "text/plain": [
       "       sum_HR  yearID   playerID nameFirst nameLast      salary\n",
       "0          73    2001  bondsba01     Barry    Bonds  10300000.0\n",
       "1          70    1998  mcgwima01      Mark  McGwire   8928354.0\n",
       "2          66    1998   sosasa01     Sammy     Sosa   8325000.0\n",
       "3          65    1999  mcgwima01      Mark  McGwire   9358667.0\n",
       "4          64    2001   sosasa01     Sammy     Sosa  12500000.0\n",
       "...       ...     ...        ...       ...      ...         ...\n",
       "25495       0    2007  zumayjo01      Joel   Zumaya    410000.0\n",
       "25496       0    2008  zumayjo01      Joel   Zumaya    420000.0\n",
       "25497       0    2009  zumayjo01      Joel   Zumaya    735000.0\n",
       "25498       0    2010  zumayjo01      Joel   Zumaya    915000.0\n",
       "25499       0    2016   zychto01      Tony     Zych    511000.0\n",
       "\n",
       "[25500 rows x 6 columns]"
      ],
      "text/html": "<div>\n<style scoped>\n    .dataframe tbody tr th:only-of-type {\n        vertical-align: middle;\n    }\n\n    .dataframe tbody tr th {\n        vertical-align: top;\n    }\n\n    .dataframe thead th {\n        text-align: right;\n    }\n</style>\n<table border=\"1\" class=\"dataframe\">\n  <thead>\n    <tr style=\"text-align: right;\">\n      <th></th>\n      <th>sum_HR</th>\n      <th>yearID</th>\n      <th>playerID</th>\n      <th>nameFirst</th>\n      <th>nameLast</th>\n      <th>salary</th>\n    </tr>\n  </thead>\n  <tbody>\n    <tr>\n      <th>0</th>\n      <td>73</td>\n      <td>2001</td>\n      <td>bondsba01</td>\n      <td>Barry</td>\n      <td>Bonds</td>\n      <td>10300000.0</td>\n    </tr>\n    <tr>\n      <th>1</th>\n      <td>70</td>\n      <td>1998</td>\n      <td>mcgwima01</td>\n      <td>Mark</td>\n      <td>McGwire</td>\n      <td>8928354.0</td>\n    </tr>\n    <tr>\n      <th>2</th>\n      <td>66</td>\n      <td>1998</td>\n      <td>sosasa01</td>\n      <td>Sammy</td>\n      <td>Sosa</td>\n      <td>8325000.0</td>\n    </tr>\n    <tr>\n      <th>3</th>\n      <td>65</td>\n      <td>1999</td>\n      <td>mcgwima01</td>\n      <td>Mark</td>\n      <td>McGwire</td>\n      <td>9358667.0</td>\n    </tr>\n    <tr>\n      <th>4</th>\n      <td>64</td>\n      <td>2001</td>\n      <td>sosasa01</td>\n      <td>Sammy</td>\n      <td>Sosa</td>\n      <td>12500000.0</td>\n    </tr>\n    <tr>\n      <th>...</th>\n      <td>...</td>\n      <td>...</td>\n      <td>...</td>\n      <td>...</td>\n      <td>...</td>\n      <td>...</td>\n    </tr>\n    <tr>\n      <th>25495</th>\n      <td>0</td>\n      <td>2007</td>\n      <td>zumayjo01</td>\n      <td>Joel</td>\n      <td>Zumaya</td>\n      <td>410000.0</td>\n    </tr>\n    <tr>\n      <th>25496</th>\n      <td>0</td>\n      <td>2008</td>\n      <td>zumayjo01</td>\n      <td>Joel</td>\n      <td>Zumaya</td>\n      <td>420000.0</td>\n    </tr>\n    <tr>\n      <th>25497</th>\n      <td>0</td>\n      <td>2009</td>\n      <td>zumayjo01</td>\n      <td>Joel</td>\n      <td>Zumaya</td>\n      <td>735000.0</td>\n    </tr>\n    <tr>\n      <th>25498</th>\n      <td>0</td>\n      <td>2010</td>\n      <td>zumayjo01</td>\n      <td>Joel</td>\n      <td>Zumaya</td>\n      <td>915000.0</td>\n    </tr>\n    <tr>\n      <th>25499</th>\n      <td>0</td>\n      <td>2016</td>\n      <td>zychto01</td>\n      <td>Tony</td>\n      <td>Zych</td>\n      <td>511000.0</td>\n    </tr>\n  </tbody>\n</table>\n<p>25500 rows × 6 columns</p>\n</div>"
     },
     "metadata": {},
     "execution_count": 62
    }
   ],
   "source": [
    "#2.2 Is there a relation between how many homeruns a player has made in a year and his salary that year? Pull both colums together in a single query\n",
    "\n",
    "\n",
    "df = pd.read_sql_query(\n",
    "    \"\"\"\n",
    "    SELECT  \n",
    "        SUM(HR) as sum_HR,\n",
    "        batting.yearID,\n",
    "        batting.playerID,\n",
    "        people.nameFirst,\n",
    "        people.nameLast,\n",
    "        salaries.salary\n",
    "    FROM (batting\n",
    "    INNER JOIN people\n",
    "        ON\n",
    "            batting.playerID = people.playerID\n",
    "    INNER JOIN salaries\n",
    "        ON\n",
    "            batting.playerID = salaries.playerID\n",
    "            AND batting.yearID = salaries.yearID\n",
    "        )\n",
    "    GROUP BY batting.playerID, batting.yearID\n",
    "    ORDER BY sum_HR DESC\n",
    "    \"\"\", conn)\n",
    "\n",
    "df"
   ]
  },
  {
   "cell_type": "code",
   "execution_count": 64,
   "metadata": {},
   "outputs": [
    {
     "output_type": "execute_result",
     "data": {
      "text/plain": [
       "<class 'statsmodels.iolib.summary.Summary'>\n",
       "\"\"\"\n",
       "                            OLS Regression Results                            \n",
       "==============================================================================\n",
       "Dep. Variable:                 salary   R-squared:                       0.083\n",
       "Model:                            OLS   Adj. R-squared:                  0.083\n",
       "Method:                 Least Squares   F-statistic:                     1085.\n",
       "Date:                Wed, 17 Feb 2021   Prob (F-statistic):          4.35e-233\n",
       "Time:                        08:03:54   Log-Likelihood:            -4.1915e+05\n",
       "No. Observations:               25500   AIC:                         8.383e+05\n",
       "Df Residuals:                   25498   BIC:                         8.383e+05\n",
       "Df Model:                           1                                         \n",
       "Covariance Type:                  HC2                                         \n",
       "==============================================================================\n",
       "                 coef    std err          z      P>|z|      [0.025      0.975]\n",
       "------------------------------------------------------------------------------\n",
       "const        1.51e+06   2.26e+04     66.948      0.000    1.47e+06    1.55e+06\n",
       "sum_HR      1.137e+05   3450.307     32.941      0.000    1.07e+05     1.2e+05\n",
       "==============================================================================\n",
       "Omnibus:                    16297.767   Durbin-Watson:                   1.259\n",
       "Prob(Omnibus):                  0.000   Jarque-Bera (JB):           189434.488\n",
       "Skew:                           2.980   Prob(JB):                         0.00\n",
       "Kurtosis:                      14.949   Cond. No.                         12.0\n",
       "==============================================================================\n",
       "\n",
       "Notes:\n",
       "[1] Standard Errors are heteroscedasticity robust (HC2)\n",
       "\"\"\""
      ],
      "text/html": "<table class=\"simpletable\">\n<caption>OLS Regression Results</caption>\n<tr>\n  <th>Dep. Variable:</th>         <td>salary</td>      <th>  R-squared:         </th>  <td>   0.083</td>  \n</tr>\n<tr>\n  <th>Model:</th>                   <td>OLS</td>       <th>  Adj. R-squared:    </th>  <td>   0.083</td>  \n</tr>\n<tr>\n  <th>Method:</th>             <td>Least Squares</td>  <th>  F-statistic:       </th>  <td>   1085.</td>  \n</tr>\n<tr>\n  <th>Date:</th>             <td>Wed, 17 Feb 2021</td> <th>  Prob (F-statistic):</th>  <td>4.35e-233</td> \n</tr>\n<tr>\n  <th>Time:</th>                 <td>08:03:54</td>     <th>  Log-Likelihood:    </th> <td>-4.1915e+05</td>\n</tr>\n<tr>\n  <th>No. Observations:</th>      <td> 25500</td>      <th>  AIC:               </th>  <td>8.383e+05</td> \n</tr>\n<tr>\n  <th>Df Residuals:</th>          <td> 25498</td>      <th>  BIC:               </th>  <td>8.383e+05</td> \n</tr>\n<tr>\n  <th>Df Model:</th>              <td>     1</td>      <th>                     </th>      <td> </td>     \n</tr>\n<tr>\n  <th>Covariance Type:</th>         <td>HC2</td>       <th>                     </th>      <td> </td>     \n</tr>\n</table>\n<table class=\"simpletable\">\n<tr>\n     <td></td>       <th>coef</th>     <th>std err</th>      <th>z</th>      <th>P>|z|</th>  <th>[0.025</th>    <th>0.975]</th>  \n</tr>\n<tr>\n  <th>const</th>  <td>  1.51e+06</td> <td> 2.26e+04</td> <td>   66.948</td> <td> 0.000</td> <td> 1.47e+06</td> <td> 1.55e+06</td>\n</tr>\n<tr>\n  <th>sum_HR</th> <td> 1.137e+05</td> <td> 3450.307</td> <td>   32.941</td> <td> 0.000</td> <td> 1.07e+05</td> <td>  1.2e+05</td>\n</tr>\n</table>\n<table class=\"simpletable\">\n<tr>\n  <th>Omnibus:</th>       <td>16297.767</td> <th>  Durbin-Watson:     </th>  <td>   1.259</td> \n</tr>\n<tr>\n  <th>Prob(Omnibus):</th>  <td> 0.000</td>   <th>  Jarque-Bera (JB):  </th> <td>189434.488</td>\n</tr>\n<tr>\n  <th>Skew:</th>           <td> 2.980</td>   <th>  Prob(JB):          </th>  <td>    0.00</td> \n</tr>\n<tr>\n  <th>Kurtosis:</th>       <td>14.949</td>   <th>  Cond. No.          </th>  <td>    12.0</td> \n</tr>\n</table><br/><br/>Notes:<br/>[1] Standard Errors are heteroscedasticity robust (HC2)"
     },
     "metadata": {},
     "execution_count": 64
    }
   ],
   "source": [
    "import statsmodels.api as sm \n",
    "\n",
    "X = df.sum_HR\n",
    "y = df.salary\n",
    "\n",
    "est = sm.OLS(y, sm.add_constant(X)).fit(cov_type='HC2')\n",
    "est.summary()"
   ]
  },
  {
   "source": [
    "Our r-squared is equal to 0.083, it doesn't seem to have a linear relation between the HR and salary paid. Based on that value we can say that most of the response data is around its mean. "
   ],
   "cell_type": "markdown",
   "metadata": {}
  }
 ]
}