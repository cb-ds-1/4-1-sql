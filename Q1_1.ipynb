{
  "nbformat": 4,
  "nbformat_minor": 0,
  "metadata": {
    "colab": {
      "name": "Q1_1.ipynb",
      "provenance": []
    },
    "kernelspec": {
      "name": "python3",
      "display_name": "Python 3"
    }
  },
  "cells": [
    {
      "cell_type": "code",
      "metadata": {
        "colab": {
          "base_uri": "https://localhost:8080/",
          "height": 37
        },
        "id": "Dk9L_v3fuMQf",
        "outputId": "c1e1c0fb-5e8c-46ea-e268-22d826b55964"
      },
      "source": [
        "pwd"
      ],
      "execution_count": null,
      "outputs": [
        {
          "output_type": "execute_result",
          "data": {
            "application/vnd.google.colaboratory.intrinsic+json": {
              "type": "string"
            },
            "text/plain": [
              "'/content'"
            ]
          },
          "metadata": {
            "tags": []
          },
          "execution_count": 2
        }
      ]
    },
    {
      "cell_type": "code",
      "metadata": {
        "colab": {
          "base_uri": "https://localhost:8080/"
        },
        "id": "-_3P1LlyuN-u",
        "outputId": "2c1dc677-4cd7-437f-892b-6c3bb4313673"
      },
      "source": [
        "ls"
      ],
      "execution_count": null,
      "outputs": [
        {
          "output_type": "stream",
          "text": [
            "\u001b[0m\u001b[01;34mdrive\u001b[0m/  movies.db  \u001b[01;34msample_data\u001b[0m/\n"
          ],
          "name": "stdout"
        }
      ]
    },
    {
      "cell_type": "code",
      "metadata": {
        "colab": {
          "base_uri": "https://localhost:8080/"
        },
        "id": "sgFYqB6duUde",
        "outputId": "7cad0bc5-9345-4426-e062-5347abab3a59"
      },
      "source": [
        "cd drive/MyDrive/archive/"
      ],
      "execution_count": null,
      "outputs": [
        {
          "output_type": "stream",
          "text": [
            "/content/drive/MyDrive/archive\n"
          ],
          "name": "stdout"
        }
      ]
    },
    {
      "cell_type": "code",
      "metadata": {
        "colab": {
          "base_uri": "https://localhost:8080/"
        },
        "id": "v2eqiVATtld7",
        "outputId": "c32ec9a9-929c-4fc6-a07c-aefdbbfd3c66"
      },
      "source": [
        "import pandas as pd\n",
        "import sqlite3\n",
        "\n",
        "conn = sqlite3.connect('movies.db')\n",
        "c = conn.cursor()\n",
        "\n",
        "credits = pd.read_csv('credits.csv')\n",
        "credits.to_sql('credits', conn, if_exists='replace', index = False)\n",
        "keywords = pd.read_csv('keywords.csv')\n",
        "keywords.to_sql('keywords', conn, if_exists='replace', index = False)\n",
        "links_small = pd.read_csv('links_small.csv')\n",
        "links_small.to_sql('links_small', conn, if_exists='replace', index = False)\n",
        "movies = pd.read_csv('movies_metadata.csv')\n",
        "ratings_small = pd.read_csv('ratings_small.csv')\n",
        "ratings_small.to_sql('ratings_small', conn, if_exists='replace', index = False)"
      ],
      "execution_count": null,
      "outputs": [
        {
          "output_type": "stream",
          "text": [
            "/usr/local/lib/python3.6/dist-packages/IPython/core/interactiveshell.py:2718: DtypeWarning: Columns (10) have mixed types.Specify dtype option on import or set low_memory=False.\n",
            "  interactivity=interactivity, compiler=compiler, result=result)\n"
          ],
          "name": "stderr"
        }
      ]
    },
    {
      "cell_type": "code",
      "metadata": {
        "id": "YRjHnzyyuF6y"
      },
      "source": [
        ""
      ],
      "execution_count": null,
      "outputs": []
    }
  ]
}